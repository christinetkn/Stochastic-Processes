{
 "cells": [
  {
   "cell_type": "markdown",
   "metadata": {},
   "source": [
    "#### 2η Εργαστηριακή Άσκηση Χριστίνα Τσακανίκα  ΑΜ:03117012 ΣΗΜΜΥ"
   ]
  },
  {
   "cell_type": "markdown",
   "metadata": {},
   "source": [
    "#### Άσκηση 19"
   ]
  },
  {
   "cell_type": "code",
   "execution_count": 64,
   "metadata": {},
   "outputs": [],
   "source": [
    "import random\n",
    "random.seed(2018)  # for reproducibility\n",
    "from simple_markov_chain_lib import markov_chain\n",
    "\n",
    "p = 1/6\n",
    "\n",
    "# A dictionary for the initial distibution. \n",
    "# We prescribe the initial distribution\n",
    "init_probs = {1: 1.0} \n",
    "\n",
    "# A dictionary for the transition probability  matrix. \n",
    "# Every state-key corresponds to a list with tuples of (Next_State,Probability) \n",
    "markov_table = {\n",
    "    1: {2: 1.},\n",
    "    2: {2: 2/3, 3: 1/3},\n",
    "    3: {1: p, 2: 1-p}\n",
    "}\n",
    "\n",
    "mc = markov_chain(markov_table, init_probs)"
   ]
  },
  {
   "cell_type": "code",
   "execution_count": 68,
   "metadata": {},
   "outputs": [],
   "source": [
    "import statistics as stat ## import the library statistics. We will use it to compute the mean and variance of our list\n",
    "\n",
    "## Experiment parameters\n",
    "\n",
    "N = 20000     # number of samples\n",
    "steps = 20   # the target time \n",
    "M = 50\n",
    "estimates=[]\n",
    "\n",
    "## Simulation\n",
    "for estimations in range(M):    \n",
    "    counter = 0\n",
    "    for i in range(N):\n",
    "        mc.start()  # new experiment\n",
    "        for j in range(steps):  mc.move()\n",
    "        if mc.running_state == 1:  counter += 1\n",
    "\n",
    "    phat = counter / N\n",
    "    estimates.append(phat)\n",
    "    \n",
    "#print(\n",
    "#    \"\"\" \n",
    "#    The sample mean is {0:.5f} and the sample variance is {1:.5f}\n",
    "#    \"\"\".format(stat.mean(estimates), stat.variance(estimates))\n",
    "#)"
   ]
  },
  {
   "cell_type": "markdown",
   "metadata": {},
   "source": [
    "Results for N = 200:\n",
    "    The sample mean is 0.03950 and the sample variance is 0.00027\n",
    "\n",
    "Results for N = 20.000: The sample mean is 0.04001 and the sample variance is 0.00000"
   ]
  },
  {
   "cell_type": "markdown",
   "metadata": {},
   "source": [
    "#### 1. Όταν  𝑁=200   ο μέσος όρος των  Μ  εκτιμήσεων της πιθανότητας  ℙ1[𝑋20=1]  ισούται με  0.03950, ενώ όταν Ν = 20000 με 0.04001"
   ]
  },
  {
   "cell_type": "markdown",
   "metadata": {},
   "source": [
    "#### 2. H θεωρητική τιμή υπολογίστηκε ίση με 0.039999. Παρατηρούμε ότι τα αποτελέσματα που εξάγαμε προσεγγίζουν ικανοποιητικά την θεωρητική τιμή.\n"
   ]
  },
  {
   "cell_type": "markdown",
   "metadata": {},
   "source": [
    "#### 3. H δειγματική διασπορά των  𝑀  εκτιμήσεων στις δύο περιπτώσεις είναι 0.00027 (Ν = 200) και 0.00000 (Ν = 20000)"
   ]
  },
  {
   "cell_type": "markdown",
   "metadata": {},
   "source": [
    "#### 4. Εκκινώντας από την κατάσταση 3 λαμβάνουμε μέση τιμή 0.03890 και δειγματική διασπορά 0.00012 για Ν = 200, ενώ για Ν = 20.000 λαμβάνουμε μέση τιμή 0.03998 και δειγματική διασπορά 0.00000, αποτελέσματα που δε διαφέρουν σημαντικά των προηγούμενων εκτιμήσεων."
   ]
  },
  {
   "cell_type": "markdown",
   "metadata": {},
   "source": [
    "#### Άσκηση 40"
   ]
  },
  {
   "cell_type": "code",
   "execution_count": 66,
   "metadata": {},
   "outputs": [],
   "source": [
    "import random\n",
    "random.seed(2018)  # for reproducibility\n",
    "from simple_markov_chain_lib import markov_chain\n",
    "\n",
    "p = 3/5\n",
    "\n",
    "# A dictionary for the initial distibution. \n",
    "# We prescribe the initial distribution\n",
    "\n",
    "init_probs = {'0-0': 1.0} \n",
    "\n",
    "\n",
    "# A dictionary for the transition probability  matrix. \n",
    "# Every state-key corresponds to a list with tuples of (Next_State,Probability) \n",
    "markov_table = {\n",
    "    '0-0': {'15-0': p, '0-15':1-p},\n",
    "    '15-0': {'30-0': p, '15-15': 1-p},\n",
    "    '0-15': {'15-15': p, '0-30': 1-p},\n",
    "    '30-0': {'40-0': p, '30-15': 1-p},\n",
    "    '15-15': {'30-15': p, '15-30': 1-p},\n",
    "    '0-30': {'15-30': p, '0-40': 1-p},\n",
    "    '40-0': {'GameA': p, '40-15': 1-p},\n",
    "    '30-15': {'40-15': p, 'Deuce': 1-p},\n",
    "    '15-30': {'Deuce': p, '15-40': 1-p},\n",
    "    'Deuce': {'AdvA': p, 'AdvB': 1-p},\n",
    "    'AdvA': {'GameA': p, 'Deuce': 1-p},\n",
    "    'AdvB': {'Deuce': p, 'GameB': 1-p},\n",
    "    '0-40': {'15-40': p, 'GameB': 1-p},\n",
    "    '40-15': {'GameA': p, 'AdvA': 1-p},\n",
    "    '15-40': {'AdvB': p, 'GameB': 1-p},\n",
    "    'GameA':{'GameA':1},\n",
    "    'GameB':{'GameB':1}\n",
    "}\n",
    " \n",
    "mc = markov_chain(markov_table, init_probs)"
   ]
  },
  {
   "cell_type": "code",
   "execution_count": 67,
   "metadata": {},
   "outputs": [
    {
     "name": "stdout",
     "output_type": "stream",
     "text": [
      "Η πιθανότητα ο PlayerA να κερδίσει το παιχνίδι ισούται με: 0.753\n"
     ]
    }
   ],
   "source": [
    "counter = 0\n",
    "N = 1000\n",
    "for i in range(N):\n",
    "    mc.start()  \n",
    "    while(mc.running_state !='GameA' and mc.running_state !='GameB'):\n",
    "        mc.move()\n",
    "    if(mc.running_state =='GameA'):\n",
    "        counter += 1\n",
    "phat = counter / N\n",
    "\n",
    "print('Η πιθανότητα ο PlayerA να κερδίσει το παιχνίδι ισούται με:',phat)"
   ]
  },
  {
   "cell_type": "markdown",
   "metadata": {},
   "source": [
    "#### Τέλος 2ης Εργαστηριακής Άσκησης"
   ]
  }
 ],
 "metadata": {
  "kernelspec": {
   "display_name": "Python 3",
   "language": "python",
   "name": "python3"
  },
  "language_info": {
   "codemirror_mode": {
    "name": "ipython",
    "version": 3
   },
   "file_extension": ".py",
   "mimetype": "text/x-python",
   "name": "python",
   "nbconvert_exporter": "python",
   "pygments_lexer": "ipython3",
   "version": "3.7.10"
  }
 },
 "nbformat": 4,
 "nbformat_minor": 4
}
